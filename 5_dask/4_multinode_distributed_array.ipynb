{
 "cells": [
  {
   "cell_type": "markdown",
   "metadata": {},
   "source": [
    "### Dask Architecture: Notebook (Client) + Scheduler (same node) + Workers (separate Slurm job)\n",
    "\n",
    "Below is a conceptual diagram of the setup used in this session: a Jupyter notebook acts as the Dask client; the Dask scheduler runs on the same node as the notebook; and a separate Slurm job launches one or more worker processes on other nodes.\n",
    "\n",
    "<div style=\"margin-top: 8px\">\n",
    "<svg width=\"900\" height=\"360\" viewBox=\"0 0 900 360\" xmlns=\"http://www.w3.org/2000/svg\" role=\"img\" aria-label=\"Dask architecture diagram with client and scheduler on one node and workers in a separate Slurm job\">\n",
    "  <defs>\n",
    "    <marker id=\"arrow\" viewBox=\"0 0 10 10\" refX=\"10\" refY=\"5\" markerWidth=\"7\" markerHeight=\"7\" orient=\"auto-start-reverse\">\n",
    "      <path d=\"M 0 0 L 10 5 L 0 10 z\" fill=\"#3b82f6\" />\n",
    "    </marker>\n",
    "    <style>\n",
    "      .title { font: 700 16px sans-serif; fill: #111827; }\n",
    "      .label { font: 600 13px sans-serif; fill: #111827; }\n",
    "      .small { font: 12px sans-serif; fill: #374151; }\n",
    "      .box { fill: #ffffff; stroke: #9ca3af; stroke-width: 1.5; rx: 8; }\n",
    "      .box-blue { fill: #eff6ff; stroke: #3b82f6; }\n",
    "      .box-green { fill: #ecfdf5; stroke: #10b981; }\n",
    "      .cluster { fill: none; stroke: #9ca3af; stroke-dasharray: 6 6; rx: 10; }\n",
    "      .link { stroke: #3b82f6; stroke-width: 2.2; marker-end: url(#arrow); }\n",
    "      .link2 { stroke: #10b981; stroke-width: 2; marker-end: url(#arrow); }\n",
    "    </style>\n",
    "  </defs>\n",
    "\n",
    "  <!-- Left cluster: Notebook + Scheduler on the same node -->\n",
    "  <rect x=\"20\" y=\"40\" width=\"370\" height=\"280\" class=\"cluster\" />\n",
    "  <text x=\"205\" y=\"30\" text-anchor=\"middle\" class=\"title\">Node A (same job)</text>\n",
    "\n",
    "  <!-- Notebook (Client) -->\n",
    "  <rect x=\"45\" y=\"80\" width=\"160\" height=\"70\" class=\"box box-blue\" />\n",
    "  <text x=\"125\" y=\"110\" text-anchor=\"middle\" class=\"label\">Jupyter Notebook</text>\n",
    "  <text x=\"125\" y=\"128\" text-anchor=\"middle\" class=\"small\">Dask Client</text>\n",
    "\n",
    "  <!-- Scheduler -->\n",
    "  <rect x=\"220\" y=\"80\" width=\"150\" height=\"70\" class=\"box box-blue\" />\n",
    "  <text x=\"295\" y=\"110\" text-anchor=\"middle\" class=\"label\">Dask Scheduler</text>\n",
    "  <text x=\"295\" y=\"128\" text-anchor=\"middle\" class=\"small\">Ports: 8786/8787</text>\n",
    "\n",
    "  <!-- Client <-> Scheduler link -->\n",
    "  <line x1=\"205\" y1=\"115\" x2=\"220\" y2=\"115\" class=\"link\" />\n",
    "\n",
    "  <!-- Right cluster: Workers launched by a separate Slurm job -->\n",
    "  <rect x=\"430\" y=\"40\" width=\"450\" height=\"280\" class=\"cluster\" />\n",
    "  <text x=\"655\" y=\"30\" text-anchor=\"middle\" class=\"title\">Worker nodes (separate Slurm job)</text>\n",
    "  <text x=\"655\" y=\"60\" text-anchor=\"middle\" class=\"small\">srun/sbatch start dask-worker processes</text>\n",
    "\n",
    "  <!-- Worker boxes -->\n",
    "  <rect x=\"460\" y=\"100\" width=\"180\" height=\"60\" class=\"box box-green\" />\n",
    "  <text x=\"550\" y=\"130\" text-anchor=\"middle\" class=\"label\">Dask Worker</text>\n",
    "  <text x=\"550\" y=\"148\" text-anchor=\"middle\" class=\"small\">nthreads x nprocs</text>\n",
    "\n",
    "  <rect x=\"670\" y=\"100\" width=\"180\" height=\"60\" class=\"box box-green\" />\n",
    "  <text x=\"760\" y=\"130\" text-anchor=\"middle\" class=\"label\">Dask Worker</text>\n",
    "  <text x=\"760\" y=\"148\" text-anchor=\"middle\" class=\"small\">GPU/CPU</text>\n",
    "\n",
    "  <rect x=\"565\" y=\"190\" width=\"180\" height=\"60\" class=\"box box-green\" />\n",
    "  <text x=\"655\" y=\"220\" text-anchor=\"middle\" class=\"label\">(More Workers)</text>\n",
    "  <text x=\"655\" y=\"238\" text-anchor=\"middle\" class=\"small\">scale up/down</text>\n",
    "\n",
    "  <!-- Scheduler -> Workers links -->\n",
    "  <path d=\"M 370 115 C 420 115, 420 130, 460 130\" fill=\"none\" class=\"link2\" />\n",
    "  <path d=\"M 370 115 C 450 95, 600 95, 670 130\" fill=\"none\" class=\"link2\" />\n",
    "  <path d=\"M 370 115 C 440 140, 520 180, 565 220\" fill=\"none\" class=\"link2\" />\n",
    "\n",
    "  <!-- Legend -->\n",
    "  <rect x=\"35\" y=\"335\" width=\"12\" height=\"12\" class=\"box-blue\" />\n",
    "  <text x=\"55\" y=\"345\" class=\"small\">Client/Scheduler</text>\n",
    "  <rect x=\"180\" y=\"335\" width=\"12\" height=\"12\" class=\"box-green\" />\n",
    "  <text x=\"200\" y=\"345\" class=\"small\">Workers</text>\n",
    "  <line x1=\"300\" y1=\"341\" x2=\"340\" y2=\"341\" class=\"link\" />\n",
    "  <text x=\"348\" y=\"345\" class=\"small\">control/status</text>\n",
    "  <line x1=\"460\" y1=\"341\" x2=\"500\" y2=\"341\" class=\"link2\" />\n",
    "  <text x=\"508\" y=\"345\" class=\"small\">task/data</text>\n",
    "</svg>\n",
    "</div>\n",
    "\n",
    "Notes:\n",
    "- The notebook and scheduler share the same node/job for low-latency control and dashboard access.\n",
    "- Workers are launched by a separate Slurm allocation and register with the scheduler via its address.\n",
    "- Scale the number of workers and threads per worker based on your workload and node resources."
   ]
  },
  {
   "cell_type": "markdown",
   "metadata": {},
   "source": [
    "# Array multinode"
   ]
  },
  {
   "cell_type": "markdown",
   "metadata": {},
   "source": [
    "## Dask Architecture for Multinode Execution\n\nIn a typical Dask distributed setup for High-Performance Computing (HPC) environments, the architecture involves three main components:\n\n1.  **Jupyter Notebook (Client)**: This is where your Python code runs, acting as the client that submits tasks to the Dask scheduler. It's usually running on a login node or a dedicated JupyterLab server.\n2.  **Dask Scheduler**: The central component that coordinates all Dask workers. It receives tasks from the client, assigns them to workers, and tracks their progress. In this multinode setup, the scheduler is typically launched on the same node as the Jupyter Notebook client.\n3.  **Dask Workers**: These are the computational engines that execute the actual tasks. In a multinode setup, workers are launched on separate compute nodes, often as part of a SLURM job or similar resource allocation. They connect to the scheduler and perform computations on their assigned data.\n\nThis separation allows for efficient resource utilization and scaling across multiple nodes."
   ]
  },
  {
   "cell_type": "code",
   "execution_count": null,
   "metadata": {},
   "outputs": [],
   "source": [
    "import numpy as np\n",
    "import dask.array as da"
   ]
  },
  {
   "cell_type": "code",
   "execution_count": null,
   "metadata": {},
   "outputs": [],
   "source": [
    "# AA = da.random.normal(0,1,size=(200000,200000), chunks=(1000, 1000))"
   ]
  },
  {
   "cell_type": "code",
   "execution_count": null,
   "metadata": {},
   "outputs": [],
   "source": [
    "import socket\n",
    "address = socket.gethostbyname(socket.gethostname())\n",
    "print(address)"
   ]
  },
  {
   "cell_type": "code",
   "execution_count": null,
   "metadata": {},
   "outputs": [],
   "source": [